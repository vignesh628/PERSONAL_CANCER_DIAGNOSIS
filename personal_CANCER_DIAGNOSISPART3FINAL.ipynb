{
  "nbformat": 4,
  "nbformat_minor": 0,
  "metadata": {
    "colab": {
      "name": "personal_CANCER_DIAGNOSISPART3FINAL.ipynb",
      "version": "0.3.2",
      "provenance": [],
      "collapsed_sections": []
    },
    "kernelspec": {
      "name": "python3",
      "display_name": "Python 3"
    }
  },
  "cells": [
    {
      "metadata": {
        "id": "ICJ0ENN56v_Z",
        "colab_type": "text"
      },
      "cell_type": "markdown",
      "source": [
        "#TASK3 APPLY LOGISTIC REGRESSION FOR COUNT VECTORIZER FEATURES FOR BOTH UNIGRAMS AND BIGRAMS"
      ]
    },
    {
      "metadata": {
        "id": "hXANz4Eg3RvK",
        "colab_type": "text"
      },
      "cell_type": "markdown",
      "source": [
        "##IN TASK1 WE HAVE TAKEN THE ONE HOT ENCODING OF THE FEATURES AND TASK 2 WE HAVE TAKEN THE TOP 1000 WORDS BASED ON THEIR TFIDF VALUE.IN TASK3 WE ARE TAKIN THE FEATURES UNIGRAMS AND BIGRAMS CONSIDERING THE COUNT VECTORIZER VALUES.WE WILL APPLY THE LOGISTIC REGRESSION WITH SGD CLASSIFIER WITH LOG LOSS . WE WILL OBTAIN THE PERFORMANCE OF THE MODEL"
      ]
    },
    {
      "metadata": {
        "id": "kU_gWjg76zzz",
        "colab_type": "code",
        "colab": {}
      },
      "cell_type": "code",
      "source": [
        "# Code to read csv file into Colaboratory:\n",
        "!pip install -U -q PyDrive\n",
        "from pydrive.auth import GoogleAuth\n",
        "from pydrive.drive import GoogleDrive\n",
        "from google.colab import auth\n",
        "from oauth2client.client import GoogleCredentials\n",
        "# Authenticate and create the PyDrive client.\n",
        "auth.authenticate_user()\n",
        "gauth = GoogleAuth()\n",
        "gauth.credentials = GoogleCredentials.get_application_default()\n",
        "drive = GoogleDrive(gauth)"
      ],
      "execution_count": 0,
      "outputs": []
    },
    {
      "metadata": {
        "id": "ufHcccSW65hv",
        "colab_type": "code",
        "colab": {}
      },
      "cell_type": "code",
      "source": [
        "link = 'https://drive.google.com/open?id=1ClZQUuBTtIatBFZpPz7rXimqukBUDPWc' # The shareable link"
      ],
      "execution_count": 0,
      "outputs": []
    },
    {
      "metadata": {
        "id": "NppUO7Ea67on",
        "colab_type": "code",
        "outputId": "52e1006d-6c33-474a-db1f-f0aa023b7d34",
        "colab": {
          "base_uri": "https://localhost:8080/",
          "height": 34
        }
      },
      "cell_type": "code",
      "source": [
        "fluff, id = link.split('=')\n",
        "print (id) # Verify that you have everything after '='"
      ],
      "execution_count": 0,
      "outputs": [
        {
          "output_type": "stream",
          "text": [
            "1ClZQUuBTtIatBFZpPz7rXimqukBUDPWc\n"
          ],
          "name": "stdout"
        }
      ]
    },
    {
      "metadata": {
        "id": "b9oX0sd_6-8N",
        "colab_type": "code",
        "colab": {}
      },
      "cell_type": "code",
      "source": [
        "import pandas as pd\n",
        "downloaded = drive.CreateFile({'id':id}) \n",
        "downloaded.GetContentFile('personalcancerassignmentdata.csv')  \n"
      ],
      "execution_count": 0,
      "outputs": []
    },
    {
      "metadata": {
        "id": "Y1AQDBJ2DwTw",
        "colab_type": "code",
        "colab": {}
      },
      "cell_type": "code",
      "source": [
        "datanew=pd.read_csv('personalcancerassignmentdata.csv')"
      ],
      "execution_count": 0,
      "outputs": []
    },
    {
      "metadata": {
        "id": "lTPMVMuqmzg2",
        "colab_type": "code",
        "colab": {}
      },
      "cell_type": "code",
      "source": [
        "import pandas as pd\n",
        "import numpy as np\n",
        "from sklearn.linear_model import SGDClassifier\n",
        "from sklearn.metrics import log_loss\n",
        "from sklearn.naive_bayes import MultinomialNB\n",
        "from sklearn.model_selection import train_test_split\n",
        "from sklearn.calibration import CalibratedClassifierCV\n",
        "import matplotlib.pyplot as plt\n",
        "import seaborn as sns\n",
        "import warnings\n",
        "import re\n",
        "from nltk.corpus import stopwords\n",
        "from sklearn.neighbors import KNeighborsClassifier\n",
        "from sklearn.decomposition import TruncatedSVD\n",
        "warnings.filterwarnings('ignore')\n",
        "from sklearn.ensemble import RandomForestClassifier\n",
        "from scipy.sparse import hstack\n",
        "from sklearn.metrics.classification import accuracy_score\n",
        "from sklearn.metrics import confusion_matrix\n",
        "from sklearn.multiclass import OneVsRestClassifier\n",
        "from sklearn.feature_extraction.text import CountVectorizer\n",
        "from sklearn.feature_extraction.text import TfidfVectorizer"
      ],
      "execution_count": 0,
      "outputs": []
    },
    {
      "metadata": {
        "id": "HtlqwKGt6Ue8",
        "colab_type": "code",
        "outputId": "c0b949a1-91cd-4e88-8ccc-383ca1786e09",
        "colab": {
          "base_uri": "https://localhost:8080/",
          "height": 204
        }
      },
      "cell_type": "code",
      "source": [
        "datanew.head(5)"
      ],
      "execution_count": 0,
      "outputs": [
        {
          "output_type": "execute_result",
          "data": {
            "text/html": [
              "<div>\n",
              "<style scoped>\n",
              "    .dataframe tbody tr th:only-of-type {\n",
              "        vertical-align: middle;\n",
              "    }\n",
              "\n",
              "    .dataframe tbody tr th {\n",
              "        vertical-align: top;\n",
              "    }\n",
              "\n",
              "    .dataframe thead th {\n",
              "        text-align: right;\n",
              "    }\n",
              "</style>\n",
              "<table border=\"1\" class=\"dataframe\">\n",
              "  <thead>\n",
              "    <tr style=\"text-align: right;\">\n",
              "      <th></th>\n",
              "      <th>Unnamed: 0</th>\n",
              "      <th>ID</th>\n",
              "      <th>Gene</th>\n",
              "      <th>Variation</th>\n",
              "      <th>Class</th>\n",
              "      <th>TEXT</th>\n",
              "      <th>genevariation</th>\n",
              "    </tr>\n",
              "  </thead>\n",
              "  <tbody>\n",
              "    <tr>\n",
              "      <th>0</th>\n",
              "      <td>0</td>\n",
              "      <td>0</td>\n",
              "      <td>FAM58A</td>\n",
              "      <td>Truncating_Mutations</td>\n",
              "      <td>1</td>\n",
              "      <td>cyclin dependent kinases cdks regulate variety...</td>\n",
              "      <td>FAM58A Truncating_Mutations</td>\n",
              "    </tr>\n",
              "    <tr>\n",
              "      <th>1</th>\n",
              "      <td>1</td>\n",
              "      <td>1</td>\n",
              "      <td>CBL</td>\n",
              "      <td>W802*</td>\n",
              "      <td>2</td>\n",
              "      <td>abstract background non small cell lung cancer...</td>\n",
              "      <td>CBL W802*</td>\n",
              "    </tr>\n",
              "    <tr>\n",
              "      <th>2</th>\n",
              "      <td>2</td>\n",
              "      <td>2</td>\n",
              "      <td>CBL</td>\n",
              "      <td>Q249E</td>\n",
              "      <td>2</td>\n",
              "      <td>abstract background non small cell lung cancer...</td>\n",
              "      <td>CBL Q249E</td>\n",
              "    </tr>\n",
              "    <tr>\n",
              "      <th>3</th>\n",
              "      <td>3</td>\n",
              "      <td>3</td>\n",
              "      <td>CBL</td>\n",
              "      <td>N454D</td>\n",
              "      <td>3</td>\n",
              "      <td>recent evidence demonstrated acquired uniparen...</td>\n",
              "      <td>CBL N454D</td>\n",
              "    </tr>\n",
              "    <tr>\n",
              "      <th>4</th>\n",
              "      <td>4</td>\n",
              "      <td>4</td>\n",
              "      <td>CBL</td>\n",
              "      <td>L399V</td>\n",
              "      <td>4</td>\n",
              "      <td>oncogenic mutations monomeric casitas b lineag...</td>\n",
              "      <td>CBL L399V</td>\n",
              "    </tr>\n",
              "  </tbody>\n",
              "</table>\n",
              "</div>"
            ],
            "text/plain": [
              "   Unnamed: 0  ID    Gene             Variation  Class  \\\n",
              "0           0   0  FAM58A  Truncating_Mutations      1   \n",
              "1           1   1     CBL                 W802*      2   \n",
              "2           2   2     CBL                 Q249E      2   \n",
              "3           3   3     CBL                 N454D      3   \n",
              "4           4   4     CBL                 L399V      4   \n",
              "\n",
              "                                                TEXT  \\\n",
              "0  cyclin dependent kinases cdks regulate variety...   \n",
              "1  abstract background non small cell lung cancer...   \n",
              "2  abstract background non small cell lung cancer...   \n",
              "3  recent evidence demonstrated acquired uniparen...   \n",
              "4  oncogenic mutations monomeric casitas b lineag...   \n",
              "\n",
              "                 genevariation  \n",
              "0  FAM58A Truncating_Mutations  \n",
              "1                    CBL W802*  \n",
              "2                    CBL Q249E  \n",
              "3                    CBL N454D  \n",
              "4                    CBL L399V  "
            ]
          },
          "metadata": {
            "tags": []
          },
          "execution_count": 7
        }
      ]
    },
    {
      "metadata": {
        "colab_type": "code",
        "id": "h7gGjqjOE1ZX",
        "colab": {}
      },
      "cell_type": "code",
      "source": [
        "import re\n",
        "stop=set(stopwords.words('english'))\n",
        "def preprocessing(text,index,column):\n",
        "    if type(text) is not int:\n",
        "        string=\"\"\n",
        "        text=re.sub('[^a-zA-Z0-9]',' ',text)\n",
        "        text=re.sub('\\s+',' ',text)\n",
        "        text=text.lower()\n",
        "        for word in text.split():\n",
        "            if not word in stop:\n",
        "                string=string+word+\" \"\n",
        "        datanew[column][index]=string\n",
        "        "
      ],
      "execution_count": 0,
      "outputs": []
    },
    {
      "metadata": {
        "colab_type": "code",
        "outputId": "49825550-c681-48b0-baaa-54e28a894046",
        "id": "z8zA81zAE1Zi",
        "colab": {
          "base_uri": "https://localhost:8080/",
          "height": 34
        }
      },
      "cell_type": "code",
      "source": [
        "import time\n",
        "starttime=time.clock()\n",
        "for index,row in datanew.iterrows():\n",
        "    if type(row['TEXT']) is str:\n",
        "        preprocessing(row['TEXT'],index,'TEXT')\n",
        "print(time.clock()-starttime)"
      ],
      "execution_count": 0,
      "outputs": [
        {
          "output_type": "stream",
          "text": [
            "431.93433699999997\n"
          ],
          "name": "stdout"
        }
      ]
    },
    {
      "metadata": {
        "id": "9th8NFaN8jmN",
        "colab_type": "code",
        "colab": {}
      },
      "cell_type": "code",
      "source": [
        "datanew['Variation']=datanew['Variation'].str.replace(' ','')"
      ],
      "execution_count": 0,
      "outputs": []
    },
    {
      "metadata": {
        "id": "dkUdl98IQJfl",
        "colab_type": "code",
        "colab": {}
      },
      "cell_type": "code",
      "source": [
        "task1data=datanew\n",
        "task1y=task1data['Class']\n",
        "task1data=task1data[['TEXT','Variation','Gene']]"
      ],
      "execution_count": 0,
      "outputs": []
    },
    {
      "metadata": {
        "id": "bsNgGkfGQ52m",
        "colab_type": "code",
        "outputId": "0ac44c27-449d-437e-a16b-01390788acb2",
        "colab": {
          "base_uri": "https://localhost:8080/",
          "height": 204
        }
      },
      "cell_type": "code",
      "source": [
        "task1data.head(5)"
      ],
      "execution_count": 0,
      "outputs": [
        {
          "output_type": "execute_result",
          "data": {
            "text/html": [
              "<div>\n",
              "<style scoped>\n",
              "    .dataframe tbody tr th:only-of-type {\n",
              "        vertical-align: middle;\n",
              "    }\n",
              "\n",
              "    .dataframe tbody tr th {\n",
              "        vertical-align: top;\n",
              "    }\n",
              "\n",
              "    .dataframe thead th {\n",
              "        text-align: right;\n",
              "    }\n",
              "</style>\n",
              "<table border=\"1\" class=\"dataframe\">\n",
              "  <thead>\n",
              "    <tr style=\"text-align: right;\">\n",
              "      <th></th>\n",
              "      <th>TEXT</th>\n",
              "      <th>Variation</th>\n",
              "      <th>Gene</th>\n",
              "    </tr>\n",
              "  </thead>\n",
              "  <tbody>\n",
              "    <tr>\n",
              "      <th>0</th>\n",
              "      <td>cyclin dependent kinases cdks regulate variety...</td>\n",
              "      <td>Truncating_Mutations</td>\n",
              "      <td>FAM58A</td>\n",
              "    </tr>\n",
              "    <tr>\n",
              "      <th>1</th>\n",
              "      <td>abstract background non small cell lung cancer...</td>\n",
              "      <td>W802*</td>\n",
              "      <td>CBL</td>\n",
              "    </tr>\n",
              "    <tr>\n",
              "      <th>2</th>\n",
              "      <td>abstract background non small cell lung cancer...</td>\n",
              "      <td>Q249E</td>\n",
              "      <td>CBL</td>\n",
              "    </tr>\n",
              "    <tr>\n",
              "      <th>3</th>\n",
              "      <td>recent evidence demonstrated acquired uniparen...</td>\n",
              "      <td>N454D</td>\n",
              "      <td>CBL</td>\n",
              "    </tr>\n",
              "    <tr>\n",
              "      <th>4</th>\n",
              "      <td>oncogenic mutations monomeric casitas b lineag...</td>\n",
              "      <td>L399V</td>\n",
              "      <td>CBL</td>\n",
              "    </tr>\n",
              "  </tbody>\n",
              "</table>\n",
              "</div>"
            ],
            "text/plain": [
              "                                                TEXT             Variation  \\\n",
              "0  cyclin dependent kinases cdks regulate variety...  Truncating_Mutations   \n",
              "1  abstract background non small cell lung cancer...                 W802*   \n",
              "2  abstract background non small cell lung cancer...                 Q249E   \n",
              "3  recent evidence demonstrated acquired uniparen...                 N454D   \n",
              "4  oncogenic mutations monomeric casitas b lineag...                 L399V   \n",
              "\n",
              "     Gene  \n",
              "0  FAM58A  \n",
              "1     CBL  \n",
              "2     CBL  \n",
              "3     CBL  \n",
              "4     CBL  "
            ]
          },
          "metadata": {
            "tags": []
          },
          "execution_count": 12
        }
      ]
    },
    {
      "metadata": {
        "id": "L3NsYDezPYnV",
        "colab_type": "code",
        "outputId": "b2368ddd-b0cc-4561-b4d8-d740968d2d81",
        "colab": {
          "base_uri": "https://localhost:8080/",
          "height": 85
        }
      },
      "cell_type": "code",
      "source": [
        "from sklearn.model_selection import train_test_split\n",
        "tx,testx,ty,testy=train_test_split(task1data,task1y,test_size=0.2)\n",
        "print(tx.shape)\n",
        "print(ty.shape)\n",
        "print(testx.shape)\n",
        "print(testy.shape)"
      ],
      "execution_count": 0,
      "outputs": [
        {
          "output_type": "stream",
          "text": [
            "(2656, 3)\n",
            "(2656,)\n",
            "(665, 3)\n",
            "(665,)\n"
          ],
          "name": "stdout"
        }
      ]
    },
    {
      "metadata": {
        "id": "hrktMkGbcCBP",
        "colab_type": "code",
        "outputId": "3c9ae986-7ed2-4ba6-a6e5-2e78c6d9e035",
        "colab": {
          "base_uri": "https://localhost:8080/",
          "height": 51
        }
      },
      "cell_type": "code",
      "source": [
        "print(testx.shape)\n",
        "print(testy.shape)"
      ],
      "execution_count": 0,
      "outputs": [
        {
          "output_type": "stream",
          "text": [
            "(665, 3)\n",
            "(665,)\n"
          ],
          "name": "stdout"
        }
      ]
    },
    {
      "metadata": {
        "id": "VrMu-aJ9cXCj",
        "colab_type": "code",
        "outputId": "c4a561e8-a956-44aa-cd4b-9b4118e71d60",
        "colab": {
          "base_uri": "https://localhost:8080/",
          "height": 34
        }
      },
      "cell_type": "code",
      "source": [
        "print(type(testy))"
      ],
      "execution_count": 0,
      "outputs": [
        {
          "output_type": "stream",
          "text": [
            "<class 'pandas.core.series.Series'>\n"
          ],
          "name": "stdout"
        }
      ]
    },
    {
      "metadata": {
        "id": "0t0l8YlKRwNv",
        "colab_type": "code",
        "outputId": "a11f5038-4c13-4e39-94b0-dbc1bc82ac5a",
        "colab": {
          "base_uri": "https://localhost:8080/",
          "height": 85
        }
      },
      "cell_type": "code",
      "source": [
        "trainx,cvx,trainy,cvy=train_test_split(tx,ty,test_size=0.2)\n",
        "print(trainx.shape)\n",
        "print(cvx.shape)\n",
        "print(trainy.shape)\n",
        "print(cvy.shape)"
      ],
      "execution_count": 0,
      "outputs": [
        {
          "output_type": "stream",
          "text": [
            "(2124, 3)\n",
            "(532, 3)\n",
            "(2124,)\n",
            "(532,)\n"
          ],
          "name": "stdout"
        }
      ]
    },
    {
      "metadata": {
        "id": "REtsqBn_SoTF",
        "colab_type": "code",
        "outputId": "31e945f4-9dc9-46c6-e0a4-b5372d366a29",
        "colab": {
          "base_uri": "https://localhost:8080/",
          "height": 68
        }
      },
      "cell_type": "code",
      "source": [
        "genevector=CountVectorizer()\n",
        "traingenefeatureonehotencoding=genevector.fit_transform(trainx['Gene'])\n",
        "testgenefeatureonehotencoding=genevector.transform(testx['Gene'])\n",
        "cvgenefeatureonehotencoding=genevector.transform(cvx['Gene'])\n",
        "print(traingenefeatureonehotencoding.shape)\n",
        "print(testgenefeatureonehotencoding.shape)\n",
        "print(cvgenefeatureonehotencoding.shape)"
      ],
      "execution_count": 0,
      "outputs": [
        {
          "output_type": "stream",
          "text": [
            "(2124, 225)\n",
            "(665, 225)\n",
            "(532, 225)\n"
          ],
          "name": "stdout"
        }
      ]
    },
    {
      "metadata": {
        "id": "ROg2IR-W8cEW",
        "colab_type": "code",
        "colab": {}
      },
      "cell_type": "code",
      "source": [
        "from sklearn.preprocessing import normalize\n",
        "traingenefeatureonehotencoding=normalize(traingenefeatureonehotencoding)\n",
        "testgenefeatureonehotencoding=normalize(testgenefeatureonehotencoding)\n",
        "cvgenefeatureonehotencoding=normalize(cvgenefeatureonehotencoding)"
      ],
      "execution_count": 0,
      "outputs": []
    },
    {
      "metadata": {
        "id": "l0TX0MkiZ6cw",
        "colab_type": "code",
        "outputId": "01317ea8-9560-44cc-af4b-d9f3c18e42ed",
        "colab": {
          "base_uri": "https://localhost:8080/",
          "height": 68
        }
      },
      "cell_type": "code",
      "source": [
        "variationvector=CountVectorizer()\n",
        "trainvariationfeatureonehotencoding=variationvector.fit_transform(trainx['Variation'])\n",
        "testvariationfeatureonehotencoding=variationvector.transform(testx['Variation'])\n",
        "cvvariationfeatureonehotencoding=variationvector.transform(cvx['Variation'])\n",
        "print(trainvariationfeatureonehotencoding.shape)\n",
        "print(testvariationfeatureonehotencoding.shape)\n",
        "print(cvvariationfeatureonehotencoding.shape)\n"
      ],
      "execution_count": 0,
      "outputs": [
        {
          "output_type": "stream",
          "text": [
            "(2124, 1973)\n",
            "(665, 1973)\n",
            "(532, 1973)\n"
          ],
          "name": "stdout"
        }
      ]
    },
    {
      "metadata": {
        "id": "GzmAGNQ4sl1F",
        "colab_type": "code",
        "colab": {}
      },
      "cell_type": "code",
      "source": [
        "trainvariationfeatureonehotencoding=normalize(trainvariationfeatureonehotencoding)\n",
        "testvariationfeatureonehotencoding=normalize(testvariationfeatureonehotencoding)\n",
        "cvvariationfeatureonehotencoding=normalize(cvvariationfeatureonehotencoding)"
      ],
      "execution_count": 0,
      "outputs": []
    },
    {
      "metadata": {
        "id": "hd-cyYPjbD9y",
        "colab_type": "code",
        "outputId": "cab27c69-0e87-42f7-d77f-093b67719ad5",
        "colab": {
          "base_uri": "https://localhost:8080/",
          "height": 68
        }
      },
      "cell_type": "code",
      "source": [
        "textvector=CountVectorizer(min_df=5,ngram_range=(1,2))\n",
        "traintextfeatureonehotencoding=textvector.fit_transform(trainx['TEXT'])\n",
        "testtextfeatureonehotencoding=textvector.transform(testx['TEXT'])\n",
        "cvtextfeatureonehotencoding=textvector.transform(cvx['TEXT'])\n",
        "print(traintextfeatureonehotencoding.shape)\n",
        "print(testtextfeatureonehotencoding.shape)\n",
        "print(cvtextfeatureonehotencoding.shape)"
      ],
      "execution_count": 0,
      "outputs": [
        {
          "output_type": "stream",
          "text": [
            "(2124, 469064)\n",
            "(665, 469064)\n",
            "(532, 469064)\n"
          ],
          "name": "stdout"
        }
      ]
    },
    {
      "metadata": {
        "id": "5IeEDHDsszsv",
        "colab_type": "code",
        "colab": {}
      },
      "cell_type": "code",
      "source": [
        "traintextfeatureonehotencoding=normalize(traintextfeatureonehotencoding)\n",
        "testtextfeatureonehotencoding=normalize(testtextfeatureonehotencoding)\n",
        "cvtextfeatureonehotencoding=normalize(cvtextfeatureonehotencoding)"
      ],
      "execution_count": 0,
      "outputs": []
    },
    {
      "metadata": {
        "id": "cBPa0aNQcN7U",
        "colab_type": "code",
        "outputId": "6f68e4ad-7123-4224-a38d-7a14e26925ef",
        "colab": {
          "base_uri": "https://localhost:8080/",
          "height": 68
        }
      },
      "cell_type": "code",
      "source": [
        "from scipy.sparse import hstack\n",
        "task1traindata=hstack((traingenefeatureonehotencoding,trainvariationfeatureonehotencoding,traintextfeatureonehotencoding)).tocsr()\n",
        "task1testdata=hstack((testgenefeatureonehotencoding,testvariationfeatureonehotencoding,testtextfeatureonehotencoding)).tocsr()\n",
        "task1cvdata=hstack((cvgenefeatureonehotencoding,cvvariationfeatureonehotencoding,cvtextfeatureonehotencoding)).tocsr()\n",
        "print(task1traindata.shape)\n",
        "print(task1testdata.shape)\n",
        "print(task1cvdata.shape)"
      ],
      "execution_count": 0,
      "outputs": [
        {
          "output_type": "stream",
          "text": [
            "(2124, 471262)\n",
            "(665, 471262)\n",
            "(532, 471262)\n"
          ],
          "name": "stdout"
        }
      ]
    },
    {
      "metadata": {
        "id": "GOnZdaq0aK3d",
        "colab_type": "code",
        "outputId": "e11904f5-b662-4869-db6a-4603a89a5e58",
        "colab": {
          "base_uri": "https://localhost:8080/",
          "height": 68
        }
      },
      "cell_type": "code",
      "source": [
        "print(trainy.shape)\n",
        "print(cvy.shape)\n",
        "print(testy.shape)"
      ],
      "execution_count": 0,
      "outputs": [
        {
          "output_type": "stream",
          "text": [
            "(2124,)\n",
            "(532,)\n",
            "(665,)\n"
          ],
          "name": "stdout"
        }
      ]
    },
    {
      "metadata": {
        "id": "Un7JvoP3ADzc",
        "colab_type": "code",
        "colab": {}
      },
      "cell_type": "code",
      "source": [
        "def predict_and_plot_confusion_matrix(train_x, trainy,test_x, test_y, clf):\n",
        "    clf.fit(train_x, trainy)\n",
        "    sig_clf = CalibratedClassifierCV(clf, method=\"sigmoid\")\n",
        "    sig_clf.fit(train_x, trainy)\n",
        "    pred_y = sig_clf.predict(test_x)\n",
        "\n",
        "    # for calculating log_loss we willl provide the array of probabilities belongs to each class\n",
        "    print(\"Log loss :\",log_loss(test_y, sig_clf.predict_proba(test_x)))\n",
        "    # calculating the number of data points that are misclassified\n",
        "    print(\"Number of mis-classified points :\", np.count_nonzero((pred_y- test_y))/test_y.shape[0])\n",
        "    plot_confusion_matrix(test_y, pred_y)"
      ],
      "execution_count": 0,
      "outputs": []
    },
    {
      "metadata": {
        "id": "4Ko-_wSpAWEn",
        "colab_type": "code",
        "colab": {}
      },
      "cell_type": "code",
      "source": [
        "# This function plots the confusion matrices given y_i, y_i_hat.\n",
        "def plot_confusion_matrix(test_y, predict_y):\n",
        "    C = confusion_matrix(test_y, predict_y)\n",
        "    # C = 9,9 matrix, each cell (i,j) represents number of points of class i are predicted class j\n",
        "    \n",
        "    A =(((C.T)/(C.sum(axis=1))).T)\n",
        "    #divid each element of the confusion matrix with the sum of elements in that column\n",
        "    \n",
        "    # C = [[1, 2],\n",
        "    #     [3, 4]]\n",
        "    # C.T = [[1, 3],\n",
        "    #        [2, 4]]\n",
        "    # C.sum(axis = 1)  axis=0 corresonds to columns and axis=1 corresponds to rows in two diamensional array\n",
        "    # C.sum(axix =1) = [[3, 7]]\n",
        "    # ((C.T)/(C.sum(axis=1))) = [[1/3, 3/7]\n",
        "    #                           [2/3, 4/7]]\n",
        "\n",
        "    # ((C.T)/(C.sum(axis=1))).T = [[1/3, 2/3]\n",
        "    #                           [3/7, 4/7]]\n",
        "    # sum of row elements = 1\n",
        "    \n",
        "    B =(C/C.sum(axis=0))\n",
        "    #divid each element of the confusion matrix with the sum of elements in that row\n",
        "    # C = [[1, 2],\n",
        "    #     [3, 4]]\n",
        "    # C.sum(axis = 0)  axis=0 corresonds to columns and axis=1 corresponds to rows in two diamensional array\n",
        "    # C.sum(axix =0) = [[4, 6]]\n",
        "    # (C/C.sum(axis=0)) = [[1/4, 2/6],\n",
        "    #                      [3/4, 4/6]] \n",
        "    \n",
        "    labels = [1,2,3,4,5,6,7,8,9]\n",
        "    # representing A in heatmap format\n",
        "    print(\"-\"*20, \"Confusion matrix\", \"-\"*20)\n",
        "    plt.figure(figsize=(20,7))\n",
        "    sns.heatmap(C, annot=True, cmap=\"YlGnBu\", fmt=\".3f\", xticklabels=labels, yticklabels=labels)\n",
        "    plt.xlabel('Predicted Class')\n",
        "    plt.ylabel('Original Class')\n",
        "    plt.show()\n",
        "\n",
        "    print(\"-\"*20, \"Precision matrix (Columm Sum=1)\", \"-\"*20)\n",
        "    plt.figure(figsize=(20,7))\n",
        "    sns.heatmap(B, annot=True, cmap=\"YlGnBu\", fmt=\".3f\", xticklabels=labels, yticklabels=labels)\n",
        "    plt.xlabel('Predicted Class')\n",
        "    plt.ylabel('Original Class')\n",
        "    plt.show()\n",
        "    \n",
        "    # representing B in heatmap format\n",
        "    print(\"-\"*20, \"Recall matrix (Row sum=1)\", \"-\"*20)\n",
        "    plt.figure(figsize=(20,7))\n",
        "    sns.heatmap(A, annot=True, cmap=\"YlGnBu\", fmt=\".3f\", xticklabels=labels, yticklabels=labels)\n",
        "    plt.xlabel('Predicted Class')\n",
        "    plt.ylabel('Original Class')\n",
        "    plt.show()"
      ],
      "execution_count": 0,
      "outputs": []
    },
    {
      "metadata": {
        "id": "rEI0myJUgN5d",
        "colab_type": "code",
        "outputId": "6fc5d986-527a-4b92-80c4-118cf338d82c",
        "colab": {
          "base_uri": "https://localhost:8080/",
          "height": 652
        }
      },
      "cell_type": "code",
      "source": [
        "from sklearn.linear_model import SGDClassifier\n",
        "from sklearn.calibration import CalibratedClassifierCV\n",
        "from sklearn.metrics import log_loss\n",
        "\n",
        "alpha = [10 ** x for x in range(-6, 3)]\n",
        "cv_log_error_array = []\n",
        "for i in alpha:\n",
        "    print(\"for alpha =\", i)\n",
        "    clf = SGDClassifier(class_weight='balanced', alpha=i, penalty='l2', loss='log', random_state=42)\n",
        "    clf.fit(task1traindata,trainy)\n",
        "    sig_clf = CalibratedClassifierCV(clf, method=\"sigmoid\")\n",
        "    sig_clf.fit(task1traindata, trainy)\n",
        "    sig_clf_probs = sig_clf.predict_proba(task1cvdata)\n",
        "    cv_log_error_array.append(log_loss(cvy, sig_clf_probs, labels=clf.classes_, eps=1e-15))\n",
        "    # to avoid rounding error while multiplying probabilites we use log-probability estimates\n",
        "    print(\"Log Loss :\",log_loss(cvy, sig_clf_probs)) \n",
        "\n",
        "fig, ax = plt.subplots()\n",
        "ax.plot(alpha, cv_log_error_array,c='g')\n",
        "for i, txt in enumerate(np.round(cv_log_error_array,3)):\n",
        "    ax.annotate((alpha[i],str(txt)), (alpha[i],cv_log_error_array[i]))\n",
        "plt.grid()\n",
        "plt.title(\"Cross Validation Error for each alpha\")\n",
        "plt.xlabel(\"Alpha i's\")\n",
        "plt.ylabel(\"Error measure\")\n",
        "plt.show()\n",
        "\n",
        "\n",
        "best_alpha = np.argmin(cv_log_error_array)\n",
        "clf = SGDClassifier(class_weight='balanced', alpha=alpha[best_alpha], penalty='l2', loss='log', random_state=42)\n",
        "clf.fit(task1traindata, trainy)\n",
        "sig_clf = CalibratedClassifierCV(clf, method=\"sigmoid\")\n",
        "sig_clf.fit(task1traindata,trainy)\n",
        "\n",
        "predict_y = sig_clf.predict_proba(task1traindata)\n",
        "print('For values of best alpha = ', alpha[best_alpha], \"The train log loss is:\",log_loss(trainy, predict_y, labels=clf.classes_, eps=1e-15))\n",
        "predict_y = sig_clf.predict_proba(task1cvdata)\n",
        "print('For values of best alpha = ', alpha[best_alpha], \"The cross validation log loss is:\",log_loss(cvy, predict_y, labels=clf.classes_, eps=1e-15))\n",
        "predict_y = sig_clf.predict_proba(task1testdata)\n",
        "print('For values of best alpha = ', alpha[best_alpha], \"The test log loss is:\",log_loss(testy, predict_y, labels=clf.classes_, eps=1e-15))"
      ],
      "execution_count": 0,
      "outputs": [
        {
          "output_type": "stream",
          "text": [
            "for alpha = 1e-06\n",
            "Log Loss : 1.0613369824556358\n",
            "for alpha = 1e-05\n",
            "Log Loss : 0.9888660717503559\n",
            "for alpha = 0.0001\n",
            "Log Loss : 0.9178701045932761\n",
            "for alpha = 0.001\n",
            "Log Loss : 0.9636800827738916\n",
            "for alpha = 0.01\n",
            "Log Loss : 1.1339653087054247\n",
            "for alpha = 0.1\n",
            "Log Loss : 1.431197168266987\n",
            "for alpha = 1\n",
            "Log Loss : 1.5700688727802201\n",
            "for alpha = 10\n",
            "Log Loss : 1.588152735716225\n",
            "for alpha = 100\n",
            "Log Loss : 1.590188008271396\n"
          ],
          "name": "stdout"
        },
        {
          "output_type": "display_data",
          "data": {
            "image/png": "[encoded data removed]",
            "text/plain": [
              "<Figure size 432x288 with 1 Axes>"
            ]
          },
          "metadata": {
            "tags": []
          }
        },
        {
          "output_type": "stream",
          "text": [
            "For values of best alpha =  0.0001 The train log loss is: 0.4251292117075758\n",
            "For values of best alpha =  0.0001 The cross validation log loss is: 0.9178701045932761\n",
            "For values of best alpha =  0.0001 The test log loss is: 1.047845767208287\n"
          ],
          "name": "stdout"
        }
      ]
    },
    {
      "metadata": {
        "id": "_jl-LjcZgN5e",
        "colab_type": "text"
      },
      "cell_type": "markdown",
      "source": [
        "<h4>4.3.1.2. Testing the model with best hyper paramters</h4>"
      ]
    },
    {
      "metadata": {
        "scrolled": false,
        "id": "EkLQ_hlvgN5f",
        "colab_type": "code",
        "outputId": "30acd52e-e3cb-4634-92ec-cad1b666d9e4",
        "colab": {
          "base_uri": "https://localhost:8080/",
          "height": 1389
        }
      },
      "cell_type": "code",
      "source": [
        "\n",
        "clf = SGDClassifier(class_weight='balanced', alpha=alpha[best_alpha], penalty='l2', loss='log', random_state=42)\n",
        "predict_and_plot_confusion_matrix(task1traindata, trainy,task1cvdata, cvy, clf)"
      ],
      "execution_count": 0,
      "outputs": [
        {
          "output_type": "stream",
          "text": [
            "Log loss : 0.9178701045932761\n",
            "Number of mis-classified points : 0.3026315789473684\n",
            "-------------------- Confusion matrix --------------------\n"
          ],
          "name": "stdout"
        },
        {
          "output_type": "display_data",
          "data": {
            "image/png": "[encoded data removed]",
            "text/plain": [
              "<Figure size 1440x504 with 2 Axes>"
            ]
          },
          "metadata": {
            "tags": []
          }
        },
        {
          "output_type": "stream",
          "text": [
            "-------------------- Precision matrix (Columm Sum=1) --------------------\n"
          ],
          "name": "stdout"
        },
        {
          "output_type": "display_data",
          "data": {
            "image/png": "[encoded data removed]",
            "text/plain": [
              "<Figure size 1440x504 with 2 Axes>"
            ]
          },
          "metadata": {
            "tags": []
          }
        },
        {
          "output_type": "stream",
          "text": [
            "-------------------- Recall matrix (Row sum=1) --------------------\n"
          ],
          "name": "stdout"
        },
        {
          "output_type": "display_data",
          "data": {
            "image/png": "[encoded data removed]",
            "text/plain": [
              "<Figure size 1440x504 with 2 Axes>"
            ]
          },
          "metadata": {
            "tags": []
          }
        }
      ]
    },
    {
      "metadata": {
        "id": "KmZHkGTgc40G",
        "colab_type": "code",
        "colab": {}
      },
      "cell_type": "code",
      "source": [
        "testyy=np.array(testy)\n"
      ],
      "execution_count": 0,
      "outputs": []
    },
    {
      "metadata": {
        "id": "sXAHe6WMA7KP",
        "colab_type": "code",
        "colab": {}
      },
      "cell_type": "code",
      "source": [
        "\n",
        "def get_impfeature_names(indices, text, gene, var, no_features):\n",
        "    gene_count_vec = CountVectorizer()\n",
        "    var_count_vec = CountVectorizer()\n",
        "    text_count_vec = CountVectorizer(min_df=5,ngram_range=(1,2))\n",
        "    \n",
        "    gene_vec = gene_count_vec.fit(trainx['Gene'])\n",
        "    var_vec  = var_count_vec.fit(trainx['Variation'])\n",
        "    text_vec = text_count_vec.fit(trainx['TEXT'])\n",
        "    \n",
        "    fea1_len = len(gene_vec.get_feature_names())\n",
        "    fea2_len = len(var_count_vec.get_feature_names())\n",
        "    \n",
        "    word_present = 0\n",
        "    for i,v in enumerate(indices):\n",
        "        if (v < fea1_len):\n",
        "            word = gene_vec.get_feature_names()[v]\n",
        "            yes_no = True if word == gene else False\n",
        "            if yes_no:\n",
        "                word_present += 1\n",
        "                print(i, \"Gene feature [{}] present in test data point [{}]\".format(word,yes_no))\n",
        "        elif (v < fea1_len+fea2_len):\n",
        "            word = var_vec.get_feature_names()[v-(fea1_len)]\n",
        "            yes_no = True if word == var else False\n",
        "            if yes_no:\n",
        "                word_present += 1\n",
        "                print(i, \"variation feature [{}] present in test data point [{}]\".format(word,yes_no))\n",
        "        else:\n",
        "            word = text_vec.get_feature_names()[v-(fea1_len+fea2_len)]\n",
        "            yes_no = True if word in text.split() else False\n",
        "            if yes_no:\n",
        "                word_present += 1\n",
        "                print(i, \"TEXT feature [{}] present in test data point [{}]\".format(word,yes_no))\n",
        "\n",
        "    print(\"Out of the top \",no_features,\" features \", word_present, \"are present in query point\")"
      ],
      "execution_count": 0,
      "outputs": []
    },
    {
      "metadata": {
        "id": "VVDc7Dh5B47b",
        "colab_type": "code",
        "outputId": "757d4f6c-ac79-4fe1-d6f6-4ed5e043b141",
        "colab": {
          "base_uri": "https://localhost:8080/",
          "height": 34
        }
      },
      "cell_type": "code",
      "source": [
        "testyy[12]"
      ],
      "execution_count": 0,
      "outputs": [
        {
          "output_type": "execute_result",
          "data": {
            "text/plain": [
              "7"
            ]
          },
          "metadata": {
            "tags": []
          },
          "execution_count": 42
        }
      ]
    },
    {
      "metadata": {
        "scrolled": false,
        "id": "l9w4XtwRgN5m",
        "colab_type": "code",
        "outputId": "3994cc7f-a2cf-4c33-c61b-19c80f5d17ed",
        "colab": {
          "base_uri": "https://localhost:8080/",
          "height": 986
        }
      },
      "cell_type": "code",
      "source": [
        "# from tabulate import tabulate\n",
        "clf = SGDClassifier(class_weight='balanced', alpha=alpha[best_alpha], penalty='l2', loss='log', random_state=42)\n",
        "clf.fit(task1traindata,trainy)\n",
        "test_point_index = 12\n",
        "no_feature = 500\n",
        "predicted_cls = clf.predict(task1testdata[12])\n",
        "print(\"Predicted Class :\", predicted_cls[0])\n",
        "print(\"Predicted Class Probabilities:\", np.round(clf.predict_proba(task1testdata[12]),4))\n",
        "print(\"Actual Class :\", testyy[12])\n",
        "indices = np.argsort(-clf.coef_)[predicted_cls-1][:,:no_feature]\n",
        "print(\"-\"*50)\n",
        "get_impfeature_names(indices[0], testx['TEXT'].iloc[test_point_index],testx['Gene'].iloc[test_point_index],testx['Variation'].iloc[test_point_index], no_feature)"
      ],
      "execution_count": 0,
      "outputs": [
        {
          "output_type": "stream",
          "text": [
            "Predicted Class : 7\n",
            "Predicted Class Probabilities: [[5.900e-03 8.900e-02 7.200e-03 5.100e-03 1.100e-02 7.700e-03 8.733e-01\n",
            "  0.000e+00 8.000e-04]]\n",
            "Actual Class : 7\n",
            "--------------------------------------------------\n",
            "0 TEXT feature [activation] present in test data point [True]\n",
            "7 TEXT feature [egfr] present in test data point [True]\n",
            "10 TEXT feature [cells] present in test data point [True]\n",
            "12 TEXT feature [kit] present in test data point [True]\n",
            "15 TEXT feature [flt3] present in test data point [True]\n",
            "16 TEXT feature [fig] present in test data point [True]\n",
            "25 TEXT feature [signaling] present in test data point [True]\n",
            "42 TEXT feature [codon] present in test data point [True]\n",
            "54 TEXT feature [lung] present in test data point [True]\n",
            "65 TEXT feature [mutants] present in test data point [True]\n",
            "78 TEXT feature [activating] present in test data point [True]\n",
            "85 TEXT feature [akt] present in test data point [True]\n",
            "96 TEXT feature [cysteine] present in test data point [True]\n",
            "114 TEXT feature [ligand] present in test data point [True]\n",
            "117 TEXT feature [mutant] present in test data point [True]\n",
            "139 TEXT feature [expressing] present in test data point [True]\n",
            "144 TEXT feature [increased] present in test data point [True]\n",
            "145 TEXT feature [gefitinib] present in test data point [True]\n",
            "149 TEXT feature [pathways] present in test data point [True]\n",
            "155 TEXT feature [fusion] present in test data point [True]\n",
            "183 TEXT feature [tyrosine] present in test data point [True]\n",
            "191 TEXT feature [met] present in test data point [True]\n",
            "198 TEXT feature [positive] present in test data point [True]\n",
            "220 TEXT feature [presence] present in test data point [True]\n",
            "223 TEXT feature [tumor] present in test data point [True]\n",
            "227 TEXT feature [braf] present in test data point [True]\n",
            "234 TEXT feature [thyroid] present in test data point [True]\n",
            "235 TEXT feature [activated] present in test data point [True]\n",
            "267 TEXT feature [14] present in test data point [True]\n",
            "292 TEXT feature [downstream] present in test data point [True]\n",
            "298 TEXT feature [genomic] present in test data point [True]\n",
            "306 TEXT feature [domain] present in test data point [True]\n",
            "309 TEXT feature [leukemia] present in test data point [True]\n",
            "312 TEXT feature [constitutive] present in test data point [True]\n",
            "322 TEXT feature [survival] present in test data point [True]\n",
            "337 TEXT feature [stat3] present in test data point [True]\n",
            "340 TEXT feature [fold] present in test data point [True]\n",
            "360 TEXT feature [oncogene] present in test data point [True]\n",
            "361 TEXT feature [previously] present in test data point [True]\n",
            "370 TEXT feature [phosphorylation] present in test data point [True]\n",
            "376 TEXT feature [factor] present in test data point [True]\n",
            "380 TEXT feature [high] present in test data point [True]\n",
            "399 TEXT feature [derived] present in test data point [True]\n",
            "406 TEXT feature [scf] present in test data point [True]\n",
            "411 TEXT feature [inhibitor] present in test data point [True]\n",
            "412 TEXT feature [cancers] present in test data point [True]\n",
            "422 TEXT feature [her2] present in test data point [True]\n",
            "423 TEXT feature [intrinsic] present in test data point [True]\n",
            "449 TEXT feature [phosphorylated] present in test data point [True]\n",
            "472 TEXT feature [total] present in test data point [True]\n",
            "485 TEXT feature [kras] present in test data point [True]\n",
            "Out of the top  500  features  51 are present in query point\n"
          ],
          "name": "stdout"
        }
      ]
    },
    {
      "metadata": {
        "id": "00HuUb4FgN5n",
        "colab_type": "text"
      },
      "cell_type": "markdown",
      "source": [
        "<h5>4.3.1.3.2. Incorrectly Classified point</h5>"
      ]
    },
    {
      "metadata": {
        "id": "6YPhuM8NgN5n",
        "colab_type": "code",
        "outputId": "4c73af9a-80f3-4358-b48e-8d130890c156",
        "colab": {
          "base_uri": "https://localhost:8080/",
          "height": 1343
        }
      },
      "cell_type": "code",
      "source": [
        "test_point_index = 19\n",
        "no_feature = 500\n",
        "predicted_cls = clf.predict(task1testdata[test_point_index])\n",
        "print(\"Predicted Class :\", predicted_cls[0])\n",
        "print(\"Predicted Class Probabilities:\", np.round(clf.predict_proba(task1testdata[test_point_index]),4))\n",
        "print(\"Actual Class :\", testyy[test_point_index])\n",
        "indices = np.argsort(-clf.coef_)[predicted_cls-1][:,:no_feature]\n",
        "print(\"-\"*50)\n",
        "get_impfeature_names(indices[0], testx['TEXT'].iloc[test_point_index],testx['Gene'].iloc[test_point_index],testx['Variation'].iloc[test_point_index], no_feature)"
      ],
      "execution_count": 0,
      "outputs": [
        {
          "output_type": "stream",
          "text": [
            "Predicted Class : 2\n",
            "Predicted Class Probabilities: [[1.640e-02 6.162e-01 1.100e-03 1.340e-02 1.020e-02 2.108e-01 1.316e-01\n",
            "  0.000e+00 3.000e-04]]\n",
            "Actual Class : 7\n",
            "--------------------------------------------------\n",
            "42 TEXT feature [genes] present in test data point [True]\n",
            "77 TEXT feature [pik3ca] present in test data point [True]\n",
            "121 TEXT feature [resistance] present in test data point [True]\n",
            "126 TEXT feature [response] present in test data point [True]\n",
            "127 TEXT feature [cfc] present in test data point [True]\n",
            "167 TEXT feature [patients] present in test data point [True]\n",
            "188 TEXT feature [samples] present in test data point [True]\n",
            "192 TEXT feature [mutated] present in test data point [True]\n",
            "201 TEXT feature [number] present in test data point [True]\n",
            "208 TEXT feature [gene] present in test data point [True]\n",
            "226 TEXT feature [clinical] present in test data point [True]\n",
            "236 TEXT feature [oncogenic] present in test data point [True]\n",
            "238 TEXT feature [group] present in test data point [True]\n",
            "245 TEXT feature [patient] present in test data point [True]\n",
            "254 TEXT feature [kinase] present in test data point [True]\n",
            "258 TEXT feature [different] present in test data point [True]\n",
            "268 TEXT feature [pd] present in test data point [True]\n",
            "275 TEXT feature [features] present in test data point [True]\n",
            "280 TEXT feature [mek] present in test data point [True]\n",
            "285 TEXT feature [novel] present in test data point [True]\n",
            "291 TEXT feature [melanomas] present in test data point [True]\n",
            "292 TEXT feature [therapy] present in test data point [True]\n",
            "297 TEXT feature [secondary] present in test data point [True]\n",
            "298 TEXT feature [treatment] present in test data point [True]\n",
            "303 TEXT feature [weeks] present in test data point [True]\n",
            "305 TEXT feature [based] present in test data point [True]\n",
            "312 TEXT feature [met] present in test data point [True]\n",
            "314 TEXT feature [mek2] present in test data point [True]\n",
            "318 TEXT feature [normal] present in test data point [True]\n",
            "324 TEXT feature [time] present in test data point [True]\n",
            "329 TEXT feature [apoptosis] present in test data point [True]\n",
            "339 TEXT feature [across] present in test data point [True]\n",
            "347 TEXT feature [braf] present in test data point [True]\n",
            "349 TEXT feature [molecular] present in test data point [True]\n",
            "358 TEXT feature [viability] present in test data point [True]\n",
            "367 TEXT feature [sequencing] present in test data point [True]\n",
            "371 TEXT feature [somatic] present in test data point [True]\n",
            "372 TEXT feature [mutational] present in test data point [True]\n",
            "373 TEXT feature [achieved] present in test data point [True]\n",
            "385 TEXT feature [cm] present in test data point [True]\n",
            "386 TEXT feature [white] present in test data point [True]\n",
            "387 TEXT feature [line] present in test data point [True]\n",
            "394 TEXT feature [harboring] present in test data point [True]\n",
            "397 TEXT feature [deletions] present in test data point [True]\n",
            "399 TEXT feature [pcr] present in test data point [True]\n",
            "407 TEXT feature [models] present in test data point [True]\n",
            "408 TEXT feature [chromosome] present in test data point [True]\n",
            "409 TEXT feature [known] present in test data point [True]\n",
            "410 TEXT feature [rare] present in test data point [True]\n",
            "411 TEXT feature [reads] present in test data point [True]\n",
            "419 TEXT feature [using] present in test data point [True]\n",
            "423 TEXT feature [syndrome] present in test data point [True]\n",
            "425 TEXT feature [induce] present in test data point [True]\n",
            "429 TEXT feature [stable] present in test data point [True]\n",
            "430 TEXT feature [chronic] present in test data point [True]\n",
            "432 TEXT feature [median] present in test data point [True]\n",
            "436 TEXT feature [primary] present in test data point [True]\n",
            "437 TEXT feature [2011] present in test data point [True]\n",
            "443 TEXT feature [acquired] present in test data point [True]\n",
            "445 TEXT feature [types] present in test data point [True]\n",
            "450 TEXT feature [given] present in test data point [True]\n",
            "452 TEXT feature [raf] present in test data point [True]\n",
            "456 TEXT feature [proliferation] present in test data point [True]\n",
            "460 TEXT feature [tcga] present in test data point [True]\n",
            "468 TEXT feature [isoform] present in test data point [True]\n",
            "470 TEXT feature [second] present in test data point [True]\n",
            "477 TEXT feature [non] present in test data point [True]\n",
            "483 TEXT feature [method] present in test data point [True]\n",
            "490 TEXT feature [inhibitor] present in test data point [True]\n",
            "491 TEXT feature [genome] present in test data point [True]\n",
            "492 TEXT feature [concentrations] present in test data point [True]\n",
            "497 TEXT feature [15] present in test data point [True]\n",
            "Out of the top  500  features  72 are present in query point\n"
          ],
          "name": "stdout"
        }
      ]
    },
    {
      "metadata": {
        "id": "CQNHCoZg4kZF",
        "colab_type": "text"
      },
      "cell_type": "markdown",
      "source": [
        "### WITH THE LOGISTIC REGRESSION WE OBTAINED THE MODEL PERFORMANCE AND WE PRINTED THE FEATURES OF CORRECTLY CLASSIFED AND INCORRECTLY CLASSIFIED POINTS WITH TEST CASES. WE OBTAINED THE FEATURES. THE PEROFRMANCE OF THE MODEL IS"
      ]
    },
    {
      "metadata": {
        "id": "xe3YTIxm47nm",
        "colab_type": "code",
        "colab": {}
      },
      "cell_type": "code",
      "source": [
        "import pandas as pd\n",
        "dta=[]\n",
        "dta = [['LOGISTIC REGRESSION','ALPHA=0.001',0.425,0.91,1.04]]\n",
        "aa=pd.DataFrame(dta, columns=['model','BEST HYPER PARAMETER','TRAIN_LOG_LOSS','CROSS_VALIDATAION_LOGLOSS','TEST_LOG_LOSS'])"
      ],
      "execution_count": 0,
      "outputs": []
    },
    {
      "metadata": {
        "id": "yEtZSD2l5dum",
        "colab_type": "code",
        "colab": {
          "base_uri": "https://localhost:8080/",
          "height": 80
        },
        "outputId": "c82588c0-2e38-4597-86c0-26063440df20"
      },
      "cell_type": "code",
      "source": [
        "aa"
      ],
      "execution_count": 3,
      "outputs": [
        {
          "output_type": "execute_result",
          "data": {
            "text/html": [
              "<div>\n",
              "<style scoped>\n",
              "    .dataframe tbody tr th:only-of-type {\n",
              "        vertical-align: middle;\n",
              "    }\n",
              "\n",
              "    .dataframe tbody tr th {\n",
              "        vertical-align: top;\n",
              "    }\n",
              "\n",
              "    .dataframe thead th {\n",
              "        text-align: right;\n",
              "    }\n",
              "</style>\n",
              "<table border=\"1\" class=\"dataframe\">\n",
              "  <thead>\n",
              "    <tr style=\"text-align: right;\">\n",
              "      <th></th>\n",
              "      <th>model</th>\n",
              "      <th>BEST HYPER PARAMETER</th>\n",
              "      <th>TRAIN_LOG_LOSS</th>\n",
              "      <th>CROSS_VALIDATAION_LOGLOSS</th>\n",
              "      <th>TEST_LOG_LOSS</th>\n",
              "    </tr>\n",
              "  </thead>\n",
              "  <tbody>\n",
              "    <tr>\n",
              "      <th>0</th>\n",
              "      <td>LOGISTIC REGRESSION</td>\n",
              "      <td>ALPHA=0.001</td>\n",
              "      <td>0.425</td>\n",
              "      <td>0.91</td>\n",
              "      <td>1.04</td>\n",
              "    </tr>\n",
              "  </tbody>\n",
              "</table>\n",
              "</div>"
            ],
            "text/plain": [
              "                 model BEST HYPER PARAMETER  TRAIN_LOG_LOSS  \\\n",
              "0  LOGISTIC REGRESSION          ALPHA=0.001           0.425   \n",
              "\n",
              "   CROSS_VALIDATAION_LOGLOSS  TEST_LOG_LOSS  \n",
              "0                       0.91           1.04  "
            ]
          },
          "metadata": {
            "tags": []
          },
          "execution_count": 3
        }
      ]
    },
    {
      "metadata": {
        "id": "n7YRXTsW5pt2",
        "colab_type": "text"
      },
      "cell_type": "markdown",
      "source": [
        "### WE HAVE ACHIEVED THE LOG LOSS NEAR TO 1 WITH USING THE BOTH UNIGRAM AND BIGRAM FEATURES WHICH IS COMPARTATIVELY GOOD"
      ]
    },
    {
      "metadata": {
        "id": "BPu7q7ND57EG",
        "colab_type": "code",
        "colab": {}
      },
      "cell_type": "code",
      "source": [
        ""
      ],
      "execution_count": 0,
      "outputs": []
    }
  ]
}